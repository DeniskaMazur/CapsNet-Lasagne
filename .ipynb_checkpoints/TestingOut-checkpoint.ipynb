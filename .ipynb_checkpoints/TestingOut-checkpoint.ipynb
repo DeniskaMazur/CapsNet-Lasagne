{
 "cells": [
  {
   "cell_type": "code",
   "execution_count": 9,
   "metadata": {
    "collapsed": true
   },
   "outputs": [],
   "source": [
    "from lasagne.layers import InputLayer, Conv2DLayer, DenseLayer, ReshapeLayer, NonlinearityLayer\n",
    "from CapsLayer import CapsLayer, squash"
   ]
  },
  {
   "cell_type": "code",
   "execution_count": 6,
   "metadata": {},
   "outputs": [],
   "source": [
    "net = InputLayer((None, 1, 28, 28))\n",
    "\n",
    "net = Conv2DLayer(net, 256, 9)\n",
    "net = Conv2DLayer(net, 256, 9, stride=2)\n",
    "\n",
    "net = ReshapeLayer(net, [-1, 1152, 8])\n",
    "net = NonlinearityLayer(net, nonlinearity=squash)\n",
    "\n",
    "net = CapsLayer(net, num_capsule=10, 8, )"
   ]
  },
  {
   "cell_type": "code",
   "execution_count": 7,
   "metadata": {},
   "outputs": [
    {
     "data": {
      "text/plain": [
       "(None, 1152, 8)"
      ]
     },
     "execution_count": 7,
     "metadata": {},
     "output_type": "execute_result"
    }
   ],
   "source": [
    "net.output_shape"
   ]
  }
 ],
 "metadata": {
  "kernelspec": {
   "display_name": "Python 2",
   "language": "python",
   "name": "python2"
  },
  "language_info": {
   "codemirror_mode": {
    "name": "ipython",
    "version": 2
   },
   "file_extension": ".py",
   "mimetype": "text/x-python",
   "name": "python",
   "nbconvert_exporter": "python",
   "pygments_lexer": "ipython2",
   "version": "2.7.13"
  }
 },
 "nbformat": 4,
 "nbformat_minor": 2
}
